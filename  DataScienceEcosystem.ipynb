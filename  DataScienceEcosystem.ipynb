{
 "cells": [
  {
   "cell_type": "markdown",
   "id": "ea366f86-51a0-43bb-9e40-e3d7383606d0",
   "metadata": {},
   "source": [
    "# Data Science Tools and Ecosystem"
   ]
  },
  {
   "cell_type": "markdown",
   "id": "fa098ebc-7888-4678-8868-9cd4603e6055",
   "metadata": {},
   "source": [
    "## Introduction\n",
    "In this notebook, Data Science Tools and Ecosystem are summarized."
   ]
  },
  {
   "cell_type": "markdown",
   "id": "32e4c7e4-a131-4ff8-820f-de3d90e86934",
   "metadata": {},
   "source": [
    "Some of the popular languages that Data Scientists use are:\n",
    "1. Python\n",
    "2. R\n",
    "3. SQL"
   ]
  },
  {
   "cell_type": "markdown",
   "id": "a8475e4a-9b48-49ba-8c25-9b55fd5064a9",
   "metadata": {},
   "source": [
    "Some of the commonly used libraries used by Data Scientists include:\n",
    "1. Numpy\n",
    "2. Pandas\n",
    "3. Matplotlib"
   ]
  },
  {
   "cell_type": "markdown",
   "id": "15a2dec8-0cce-4ac4-a7b9-4dc499c9da7c",
   "metadata": {},
   "source": [
    "|Data Science Tools|\n",
    "|------------------|\n",
    "|github|\n",
    "|Watsonstudio|\n",
    "|kaggle|"
   ]
  },
  {
   "cell_type": "markdown",
   "id": "fca97474-f32c-420e-a3a2-27a044fd50f1",
   "metadata": {},
   "source": [
    "### Below are a few examples of evaluating arithmetic expressions in Python"
   ]
  },
  {
   "cell_type": "code",
   "execution_count": 2,
   "id": "5eb05fad-4946-4afe-8428-89aa6f116e71",
   "metadata": {},
   "outputs": [
    {
     "data": {
      "text/plain": [
       "17"
      ]
     },
     "execution_count": 2,
     "metadata": {},
     "output_type": "execute_result"
    }
   ],
   "source": [
    "# This a simple arithmetic expression to mutiply then add integers\n",
    "(3*4)+5"
   ]
  },
  {
   "cell_type": "code",
   "execution_count": 9,
   "id": "d60c6cf5-18e0-4914-b63f-104a61bea18c",
   "metadata": {},
   "outputs": [
    {
     "data": {
      "text/plain": [
       "3.3333333333333335"
      ]
     },
     "execution_count": 9,
     "metadata": {},
     "output_type": "execute_result"
    }
   ],
   "source": [
    "# This will convert 200 minutes to hours by diving by 60\n",
    "f = 200/60\n",
    "f"
   ]
  },
  {
   "cell_type": "markdown",
   "id": "7cf243e8-8767-4930-9a69-a1167521bea0",
   "metadata": {},
   "source": [
    "**Objectives:**\n",
    "* List popular languqges in data science\n",
    "* list popular libraries for data science \n",
    "* Markdown cell style"
   ]
  },
  {
   "cell_type": "markdown",
   "id": "b0d3bbf8-8b49-4c4d-8be8-84253b59c311",
   "metadata": {},
   "source": [
    "## Author : \n",
    "Mustapha Bessour"
   ]
  },
  {
   "cell_type": "code",
   "execution_count": null,
   "id": "e55f6ff1-c2ed-4649-8836-3343d3bd5554",
   "metadata": {},
   "outputs": [],
   "source": []
  }
 ],
 "metadata": {
  "kernelspec": {
   "display_name": "Python 3 (ipykernel)",
   "language": "python",
   "name": "python3"
  },
  "language_info": {
   "codemirror_mode": {
    "name": "ipython",
    "version": 3
   },
   "file_extension": ".py",
   "mimetype": "text/x-python",
   "name": "python",
   "nbconvert_exporter": "python",
   "pygments_lexer": "ipython3",
   "version": "3.12.7"
  }
 },
 "nbformat": 4,
 "nbformat_minor": 5
}
